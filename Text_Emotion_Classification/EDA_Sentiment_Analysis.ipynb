{
 "cells": [
  {
   "attachments": {},
   "cell_type": "markdown",
   "metadata": {},
   "source": [
    "# <center><i> Exploratory Data Analysis (EDA) for sentiment analysis model</i></center>\n",
    "<br>\n",
    "<center>by Green AI Innovations</center>\n",
    "<br>\n",
    "\n",
    "#### <b>Introduction:</b> <br>\n",
    "This document presents a Exploratory Data Analysis performed on collected data for one of the models in the proposed pipeline - Sentiment Analysis Model.<br>\n",
    "<br>\n",
    "Emotion detection from text is one of the challenging problems in Natural Language Processing. <br>\n",
    "The reason is the unavailability of labeled dataset and the multi-class nature of the problem. <br>\n",
    "Humans have a variety of emotions and it is difficult to collect enough records for each emotion and hence the problem of class imbalance arises.<br>\n",
    "<br>\n",
    "Exploratory Data Analysis (EDA) is a process of analyzing and understanding the underlying patterns, trends, and relationships in the data. <br>\n",
    "It involves visualizing and summarizing the data using statistical techniques to uncover any hidden insights or anomalies. <br>\n",
    "EDA is typically performed as a preliminary step in data analysis to gain an understanding of the data before further analysis or modeling.<br>\n",
    "<br>\n",
    "In the context of sentiment analysis, EDA can help to identify the distribution of sentiment classes, the most common words used in different sentiment categories, <br>\n",
    "and the relationship between sentiment and other variables such as time, location, or demographics. EDA can also help to identify potential data quality issues, <br>\n",
    "such as missing or inconsistent data, that may need to be addressed before building a sentiment analysis model.<br>\n",
    "<br>\n",
    "Some common techniques used in EDA include data visualization using histograms, scatterplots, or boxplots, summary statistics such as mean, median, or standard deviation, <br>\n",
    "and correlation analysis to identify relationships between variables. The insights gained from EDA can help to inform the feature engineering process, <br>\n",
    "improve the accuracy of the sentiment analysis model, and ultimately provide valuable insights into the sentiment expressed in textual data.<br>\n",
    "<br>\n",
    "A sentiment analysis model is a type of natural language processing (NLP) model that is designed to identify and extract the sentiment expressed in a piece of text. <br>\n",
    "The goal of a sentiment analysis model is to determine whether the sentiment of the text is positive, negative, or neutral. Sentiment analysis models can be used to analyze various types of text data, <br>\n",
    "including social media posts, product reviews, customer feedback, and news articles.<br>\n",
    "<br>\n",
    "Sentiment analysis models typically use machine learning algorithms to classify the sentiment of the text. These algorithms are trained on a labeled dataset of text data, <br>\n",
    "where each text is labeled with its corresponding sentiment (positive, negative, or neutral). The machine learning model then learns to identify patterns and features in the data that are associated with different sentiment classes.<br>\n",
    "<br>\n",
    "There are several approaches to building a sentiment analysis model, including rule-based approaches, lexicon-based approaches, and machine learning approaches. <br>\n",
    "Rule-based approaches use a set of predefined rules to identify the sentiment of the text, while lexicon-based approaches use a sentiment lexicon (a dictionary of words and their associated sentiment) to classify the sentiment. <br>\n",
    "Machine learning approaches use algorithms such as decision trees, support vector machines, or neural networks to learn the patterns and features in the data and classify the sentiment.<br>\n",
    "<br>\n",
    "Sentiment analysis models can provide valuable insights into the sentiment expressed in textual data and are widely used in various industries, including marketing, <br>\n",
    "customer service, and social media analysis. However, like any machine learning model, <br>\n",
    "the accuracy of a sentiment analysis model depends on the quality of the data used to train it and the features used to classify the sentiment. <br>\n",
    "Therefore, it is essential to perform EDA and carefully engineer features before building a sentiment analysis model.<br>\n",
    "<br>\n",
    "\n",
    "#### <b>Datasets:</b> <br>\n",
    "The datasets collected during data sourcing and research used in this EDA and for modelling purposes in later phases of the project:<br> \n",
    "- <a href=\"https://www.kaggle.com/datasets/faisalsanto007/isear-dataset\">ISEAR Dataset </a> with almost 7000 tweets with labeled emotions.<br>\n",
    "- <a href=\"https://www.kaggle.com/datasets/parulpandey/emotion-dataset\">Emotion Dataset </a>, dataset of English Twitter messages with six basic emotions: anger, fear, joy, love, sadness, and surprise.<br>\n",
    "- <a href=\"https://www.kaggle.com/datasets/praveengovi/emotions-dataset-for-nlp\">Emotions dataset for NLP </a>,list of documents with emotion flag<br>\n",
    "- <a href=\"https://www.kaggle.com/datasets/pashupatigupta/emotion-detection-from-text\">Emotion Detection from Text </a>,collection of tweets annotated with the emotions behind them<br>\n",
    "\n",
    "#### <b>EDA goals:</b> <br>\n",
    "The primary goals of EDA for sentiment analysis model data are as follows:<br>\n",
    "\n",
    "- Identify the Distribution of Sentiments: EDA helps to identify the distribution of sentiment classes (positive, negative, or neutral) in the dataset. <br>\n",
    "This information is critical as it can help determine the balance of the data, i.e., if it is skewed towards a particular sentiment class.<br>\n",
    "\n",
    "- Identify the Most Common Words: EDA can help to identify the most common words used in positive and negative sentiment classes. <br>\n",
    "This information is useful as it can help to identify the language used in different sentiment classes and can be used to build features for the sentiment analysis model.<br>\n",
    "\n",
    "- Analyze the Relationship between Sentiment and Other Variables: EDA can help to analyze the relationship between sentiment and other variables such as time, location, or demographics. <br>\n",
    "This information can help to identify patterns and trends in the data and can be used to build more accurate sentiment analysis models.<br>\n",
    "\n",
    "- Identify Data Quality Issues: EDA can help to identify potential data quality issues such as missing or inconsistent data, which may need to be addressed before building a sentiment analysis model.<br>\n",
    "\n",
    "- Inform Feature Engineering: EDA can provide valuable insights into the data, which can be used to engineer features for the sentiment analysis model. <br>\n",
    "These features can help to improve the accuracy of the model and provide more valuable insights into the sentiment expressed in the textual data.<br>\n",
    "\n",
    "In summary, EDA is a critical step in developing a sentiment analysis model. <br>\n",
    "It helps to identify the distribution of sentiments, common language patterns, the relationship between sentiment and other variables, potential data quality issues, and informs the feature engineering process.<br>\n",
    "\n",
    "#### <b>Planning:</b> <br>\n",
    "\n",
    "1. Loading libraries & Data<br>\n",
    "\n",
    "2. Data Cleaning<br>\n",
    "\n",
    "3. Exploratory Data Analysis (EDA)<br>\n",
    "\n",
    "4. Conclusion <br>\n",
    "<br>\n",
    "<br>\n",
    "<hr style=\"height:1px; border-width:0; color:gray; background-color:gray\">"
   ]
  },
  {
   "attachments": {},
   "cell_type": "markdown",
   "metadata": {},
   "source": [
    "#### <b>1. Loading libraries & data:</b> <br>\n",
    "<br>"
   ]
  },
  {
   "cell_type": "code",
   "execution_count": 59,
   "metadata": {},
   "outputs": [],
   "source": [
    "# Optional install\n",
    "# pip install opendatasets"
   ]
  },
  {
   "cell_type": "code",
   "execution_count": 60,
   "metadata": {},
   "outputs": [],
   "source": [
    "# Optional install\n",
    "# pip install contractions"
   ]
  },
  {
   "cell_type": "code",
   "execution_count": 61,
   "metadata": {},
   "outputs": [],
   "source": [
    "# Import libraries required for this notebook\n",
    "import nltk\n",
    "import string\n",
    "import pandas as pd\n",
    "import opendatasets as od\n",
    "import copy\n",
    "import contractions\n",
    "import re\n",
    "from nltk.corpus import stopwords\n",
    "from sklearn.feature_extraction.text import CountVectorizer\n",
    "\n",
    "import matplotlib.pyplot as plt\n",
    "import seaborn as sns\n",
    "\n",
    "# Optional download\n",
    "# nltk.download('stopwords')"
   ]
  },
  {
   "cell_type": "code",
   "execution_count": 62,
   "metadata": {},
   "outputs": [],
   "source": [
    "# ISEAR dataset\n",
    "isear_dataset = pd.read_csv(\"isear-dataset/eng_dataset.csv\")\n",
    "\n",
    "# Emotion Dataset\n",
    "emotion_dataset_test = pd.read_csv(\"emotion-dataset/test.csv\")\n",
    "emotion_dataset_training = pd.read_csv(\"emotion-dataset/training.csv\")\n",
    "emotion_dataset_validation = pd.read_csv(\"emotion-dataset/validation.csv\")\n",
    "\n",
    "# Emotions dataset for NLP\n",
    "emotions_dataset_for_nlp_test = pd.read_csv(\"emotions-dataset-for-nlp/test.txt\", header=None)\n",
    "emotions_dataset_for_nlp_training = pd.read_csv(\"emotions-dataset-for-nlp/train.txt\", header=None)\n",
    "emotions_dataset_for_nlp_validation = pd.read_csv(\"emotions-dataset-for-nlp/val.txt\", header=None)\n",
    "\n",
    "# Emotion detection from text dataset\n",
    "emotion_detection_from_text = pd.read_csv(\"emotion-detection-from-text/tweet_emotions.csv\")\n",
    "emotion_detection_from_text = emotion_detection_from_text.drop('tweet_id', axis=1)"
   ]
  },
  {
   "attachments": {},
   "cell_type": "markdown",
   "metadata": {},
   "source": [
    "#### <b>2. Data Cleaning:</b> <br>\n",
    "<br>\n",
    "Data cleaning is a crucial step in the data analysis process that involves identifying and correcting errors and inconsistencies in the data before analysis. <br>\n",
    "The importance of data cleaning can be summarized in the following points:<br>\n",
    "\n",
    "- Improving Data Quality: Data cleaning helps to improve the quality of the data by removing errors and inconsistencies. <br>\n",
    "This improves the accuracy and reliability of the analysis, which leads to more informed decision-making.<br>\n",
    "\n",
    "- Preventing Bias: Inaccurate or inconsistent data can introduce bias into the analysis, leading to incorrect conclusions and decisions. <br>\n",
    "Data cleaning helps to prevent bias by identifying and correcting errors in the data.<br>\n",
    "\n",
    "- Enhancing Efficiency: Data cleaning can help to save time and resources by reducing the need to redo analysis or correct errors discovered later in the analysis process.<br>\n",
    "\n",
    "- Ensuring Compatibility: Data cleaning ensures that data is compatible with the tools and techniques used for analysis. <br>\n",
    "This is especially important when working with multiple data sources or integrating data from different systems.<br>\n",
    "\n",
    "- Facilitating Interpretation: Clean data is easier to interpret and analyze, allowing for more straightforward communication of findings and conclusions.<br>\n",
    "\n",
    "In summary, data cleaning is essential to ensure the accuracy, reliability, and compatibility of data used for analysis. <br>\n",
    "It helps to prevent bias, improve efficiency, and facilitate interpretation, all of which are critical for making informed decisions based on data analysis.<br>"
   ]
  },
  {
   "cell_type": "code",
   "execution_count": 63,
   "metadata": {},
   "outputs": [
    {
     "name": "stdout",
     "output_type": "stream",
     "text": [
      "Index(['emotion', 'text'], dtype='object')\n",
      "Index(['text', 'emotion'], dtype='object')\n",
      "Index(['text', 'emotion'], dtype='object')\n",
      "Index(['text', 'emotion'], dtype='object')\n",
      "Index(['text', 'emotion'], dtype='object')\n",
      "Index(['text', 'emotion'], dtype='object')\n",
      "Index(['text', 'emotion'], dtype='object')\n",
      "Index(['emotion', 'text'], dtype='object')\n"
     ]
    }
   ],
   "source": [
    "############################### ISEAR dataset ###############################\n",
    "# ISEAR dataset, drop ID column\n",
    "isear_dataset = isear_dataset.drop('ID', \n",
    "                                   axis=1)\n",
    "\n",
    "# ISEAR dataset, rename columns\n",
    "isear_dataset.rename(columns={'sentiment': 'emotion', \n",
    "                              'content': 'text'}, \n",
    "                              inplace=True)\n",
    "\n",
    "############################### Emotion Dataset ##############################\n",
    "# Emotion Dataset, rename columns\n",
    "emotion_dataset_test.rename(columns={'label': 'emotion'}, \n",
    "                            inplace=True)\n",
    "emotion_dataset_training.rename(columns={'label': 'emotion'}, \n",
    "                                inplace=True)\n",
    "emotion_dataset_validation.rename(columns={'label': 'emotion'}, \n",
    "                                  inplace=True)\n",
    "\n",
    "# Emotion Dataset, renaming sadness to (0), joy to (1), love to (2), anger to (3), fear to (4).\n",
    "dct = {0: \"sadness\", \n",
    "       1: \"joy\", \n",
    "       2: \"love\", \n",
    "       3: \"anger\", \n",
    "       4: \"fear\", \n",
    "       5: \"surprise\"}\n",
    "emotion_dataset_test[\"emotion\"].replace(dct, \n",
    "                                        inplace=True)\n",
    "emotion_dataset_training[\"emotion\"].replace(dct, \n",
    "                                            inplace=True)\n",
    "emotion_dataset_validation[\"emotion\"].replace(dct, \n",
    "                                              inplace=True)\n",
    "\n",
    "############################### Emotions dataset for NLP ###############################\n",
    "# Emotions dataset for NLP, split a column in 2, at the \";\" symbol\n",
    "emotions_dataset_for_nlp_test = emotions_dataset_for_nlp_test[0].str.split(\";\", \n",
    "                                                                           n = 1, \n",
    "                                                                           expand = True)\n",
    "emotions_dataset_for_nlp_training = emotions_dataset_for_nlp_training[0].str.split(\";\", \n",
    "                                                                                   n = 1, \n",
    "                                                                                   expand = True)\n",
    "emotions_dataset_for_nlp_validation = emotions_dataset_for_nlp_validation[0].str.split(\";\", \n",
    "                                                                                       n = 1, \n",
    "                                                                                       expand = True)\n",
    "\n",
    "# Emotions dataset for NLP, rename columns\n",
    "emotions_dataset_for_nlp_test.rename(columns={0: 'text', \n",
    "                                              1: 'emotion'}, \n",
    "                                              inplace=True)\n",
    "emotions_dataset_for_nlp_training.rename(columns={0: 'text', \n",
    "                                                  1: 'emotion'}, \n",
    "                                                  inplace=True)\n",
    "emotions_dataset_for_nlp_validation.rename(columns={0: 'text', \n",
    "                                                    1: 'emotion'}, \n",
    "                                                    inplace=True)\n",
    "\n",
    "############################### Emotion detection from text dataset ###############################\n",
    "# Emotion detection from text dataset, rename columns\n",
    "emotion_detection_from_text.rename(columns={'sentiment': 'emotion', \n",
    "                                            'content': 'text'}, \n",
    "                                            inplace=True)\n",
    "\n",
    "\n",
    "# Print results\n",
    "print(isear_dataset.columns)\n",
    "print(emotion_dataset_test.columns)\n",
    "print(emotion_dataset_training.columns)\n",
    "print(emotion_dataset_validation.columns)\n",
    "print(emotions_dataset_for_nlp_test.columns)\n",
    "print(emotions_dataset_for_nlp_training.columns)\n",
    "print(emotions_dataset_for_nlp_validation.columns)\n",
    "print(emotion_detection_from_text.columns)"
   ]
  },
  {
   "cell_type": "code",
   "execution_count": 64,
   "metadata": {},
   "outputs": [
    {
     "name": "stdout",
     "output_type": "stream",
     "text": [
      "Shape of dataframe:  (87102, 2)\n",
      "\n",
      "Columns of dataframe:  Index(['emotion', 'text'], dtype='object')\n",
      "\n",
      "Unique emotion names:  ['anger' 'fear' 'happiness' 'sadness' 'love' 'surprise' 'empty'\n",
      " 'enthusiasm' 'neutral' 'worry' 'fun' 'hate' 'boredom' 'relief']\n"
     ]
    }
   ],
   "source": [
    "# Concatenating all dataframes along rows\n",
    "data = pd.concat([isear_dataset, \n",
    "                  emotion_dataset_test, \n",
    "                  emotion_dataset_training, \n",
    "                  emotion_dataset_validation, \n",
    "                  emotions_dataset_for_nlp_test, \n",
    "                  emotions_dataset_for_nlp_training, \n",
    "                  emotions_dataset_for_nlp_validation, \n",
    "                  emotion_detection_from_text], \n",
    "                  axis=0)\n",
    "\n",
    "# Align the names\n",
    "dct1 = {\"joy\": \"happiness\"}\n",
    "data[\"emotion\"].replace(dct1, inplace=True)\n",
    "\n",
    "# Print results\n",
    "print('Shape of dataframe: ', data.shape)\n",
    "print('')\n",
    "print('Columns of dataframe: ', data.columns)\n",
    "print('')\n",
    "print('Unique emotion names: ', pd.unique(data[\"emotion\"]))"
   ]
  },
  {
   "cell_type": "code",
   "execution_count": 65,
   "metadata": {},
   "outputs": [],
   "source": [
    "# Setting the stopwords parameter to english language\n",
    "stop_words = set(stopwords.words('english'))\n",
    "\n",
    "############################### Defining functions ###############################\n",
    "# Function replacing abbreviations with full word versions\n",
    "def expand_contractions(text):\n",
    "    return contractions.fix(text)\n",
    "\n",
    "# Function cleaning the text from various different add-ons\n",
    "def clean_content(text):\n",
    "\n",
    "    text = expand_contractions(text)\n",
    "    \n",
    "    # remove twitter handles\n",
    "    clean_text = re.sub(r'@\\w+\\s?', '', text)\n",
    "    \n",
    "    # remove twitter hashtags\n",
    "    clean_text = re.sub(r'#\\w+\\s?', '', clean_text)\n",
    "    \n",
    "    # convert to lowercase\n",
    "    clean_text = clean_text.lower()\n",
    "    \n",
    "    # remove links http:// or https://\n",
    "    clean_text = re.sub(r'https?:\\/\\/\\S+', '', clean_text)\n",
    "    \n",
    "    # remove links beginning with www. and ending with .com\n",
    "    clean_text = re.sub(r'www\\.[a-z]?\\.?(com)+|[a-z]+\\.(com)', '', clean_text)\n",
    "    \n",
    "    # remove html reference characters\n",
    "    clean_text = re.sub(r'&[a-z]+;', '', clean_text)\n",
    "\n",
    "    return clean_text\n",
    "\n",
    "# Function converting emojis to chars\n",
    "def remove_special_characters(text): \n",
    "    x = re.sub(r'[^A-Za-z0-9 ]+', '', str(text))\n",
    "    return x\n",
    "\n",
    "# Function to remove punctuations\n",
    "def remove_punctuation(text):\n",
    "    txt = copy.deepcopy(text)\n",
    "    for punctuation in string.punctuation:     \n",
    "        txt = txt.replace(punctuation, '')\n",
    "    return txt\n",
    "    \n",
    "# Function to clean text. Remove tagged entities, hyperlinks, emojis\n",
    "def clean_text(text):\n",
    "    text = re.sub(r\"@[A-Za-z0-9]+\", ' ', str(text))\n",
    "    text = re.sub(r\"https?://[A-Za-z0-9./]+\", ' ', str(text))\n",
    "    text = re.sub(r\"[^a-zA-z.!?'0-9]\", ' ', str(text))\n",
    "    text = re.sub('\\t', ' ',  str(text))\n",
    "    text = re.sub(r\" +\", ' ', str(text))\n",
    "    return text"
   ]
  },
  {
   "cell_type": "code",
   "execution_count": 66,
   "metadata": {},
   "outputs": [],
   "source": [
    "# Call the function to clean input text\n",
    "data['text'] = data['text'].apply(clean_text)\n",
    "data['text'] = data['text'].apply(lambda x :  clean_content(x))\n",
    "\n",
    "# Apply the stopwords\n",
    "data['text'] = data['text'].apply(lambda x: [item for item in x.split() if item not in stop_words]).apply(lambda x:\" \".join(x))\n",
    "\n",
    "# Call emoji converter function\n",
    "data[\"text\"] = data['text'].apply(remove_special_characters)\n",
    "\n",
    "# Call punctuation remover function\n",
    "data[\"text\"] = data['text'].apply(remove_punctuation)\n"
   ]
  },
  {
   "attachments": {},
   "cell_type": "markdown",
   "metadata": {},
   "source": [
    "#### <b>3. Exploratory Data Analysis (EDA):</b> <br>\n",
    "<br>\n",
    "Initial EDA, is an important step in the data analysis process. It involves examining and visualizing the data to gain a better understanding of its characteristics, such as its distribution, <br>outliers, missing values, and correlations between variables.<br>\n",
    "<br>\n",
    "There are several reasons why initial EDA is crucial:<br>\n",
    "\n",
    "- Identify data quality issues: EDA can reveal data quality issues such as missing values, outliers, or inconsistent data that may need to be addressed before proceeding with further analysis.<br>\n",
    "\n",
    "- Inform data preprocessing decisions: EDA can guide decisions about how to preprocess the data, such as handling missing values, imputing outliers, or transforming variables to achieve a more normal distribution.<br>\n",
    "\n",
    "- Explore relationships between variables: EDA can help identify interesting patterns or relationships between variables that may not be immediately apparent, which can inform the selection of appropriate statistical models and feature engineering.<br>\n",
    "\n",
    "- Validate assumptions: EDA can help validate assumptions about the data, such as normality or independence, that underlie many statistical techniques.<br>\n",
    "\n",
    "- Communicate insights: EDA can help communicate insights and findings to stakeholders, such as by creating visualizations or summarizing key statistics.<br>\n",
    "\n",
    "Overall, initial EDA is an important step in the data analysis process that helps ensure the quality and validity of the results obtained from the data.<br>"
   ]
  },
  {
   "cell_type": "code",
   "execution_count": 67,
   "metadata": {},
   "outputs": [
    {
     "data": {
      "text/html": [
       "<div>\n",
       "<style scoped>\n",
       "    .dataframe tbody tr th:only-of-type {\n",
       "        vertical-align: middle;\n",
       "    }\n",
       "\n",
       "    .dataframe tbody tr th {\n",
       "        vertical-align: top;\n",
       "    }\n",
       "\n",
       "    .dataframe thead th {\n",
       "        text-align: right;\n",
       "    }\n",
       "</style>\n",
       "<table border=\"1\" class=\"dataframe\">\n",
       "  <thead>\n",
       "    <tr style=\"text-align: right;\">\n",
       "      <th></th>\n",
       "      <th>emotion</th>\n",
       "      <th>text</th>\n",
       "    </tr>\n",
       "  </thead>\n",
       "  <tbody>\n",
       "    <tr>\n",
       "      <th>0</th>\n",
       "      <td>anger</td>\n",
       "      <td>point today someone says something remotely ki...</td>\n",
       "    </tr>\n",
       "    <tr>\n",
       "      <th>1</th>\n",
       "      <td>anger</td>\n",
       "      <td>game day minus 14 30 relentless</td>\n",
       "    </tr>\n",
       "    <tr>\n",
       "      <th>2</th>\n",
       "      <td>anger</td>\n",
       "      <td>game pissed game year blood boiling time turn ...</td>\n",
       "    </tr>\n",
       "    <tr>\n",
       "      <th>3</th>\n",
       "      <td>anger</td>\n",
       "      <td>found candice candace pout likes</td>\n",
       "    </tr>\n",
       "    <tr>\n",
       "      <th>4</th>\n",
       "      <td>anger</td>\n",
       "      <td>cannot come muma 60th 25k tweets soreloser</td>\n",
       "    </tr>\n",
       "    <tr>\n",
       "      <th>...</th>\n",
       "      <td>...</td>\n",
       "      <td>...</td>\n",
       "    </tr>\n",
       "    <tr>\n",
       "      <th>39995</th>\n",
       "      <td>neutral</td>\n",
       "      <td></td>\n",
       "    </tr>\n",
       "    <tr>\n",
       "      <th>39996</th>\n",
       "      <td>love</td>\n",
       "      <td>happy mothers day love</td>\n",
       "    </tr>\n",
       "    <tr>\n",
       "      <th>39997</th>\n",
       "      <td>love</td>\n",
       "      <td>happy mothers day mommies woman man long momma...</td>\n",
       "    </tr>\n",
       "    <tr>\n",
       "      <th>39998</th>\n",
       "      <td>happiness</td>\n",
       "      <td>wassup beautiful follow me peep new hit single...</td>\n",
       "    </tr>\n",
       "    <tr>\n",
       "      <th>39999</th>\n",
       "      <td>love</td>\n",
       "      <td>bullet train tokyo gf visiting japan since thu...</td>\n",
       "    </tr>\n",
       "  </tbody>\n",
       "</table>\n",
       "<p>87102 rows × 2 columns</p>\n",
       "</div>"
      ],
      "text/plain": [
       "         emotion                                               text\n",
       "0          anger  point today someone says something remotely ki...\n",
       "1          anger                    game day minus 14 30 relentless\n",
       "2          anger  game pissed game year blood boiling time turn ...\n",
       "3          anger                   found candice candace pout likes\n",
       "4          anger         cannot come muma 60th 25k tweets soreloser\n",
       "...          ...                                                ...\n",
       "39995    neutral                                                   \n",
       "39996       love                             happy mothers day love\n",
       "39997       love  happy mothers day mommies woman man long momma...\n",
       "39998  happiness  wassup beautiful follow me peep new hit single...\n",
       "39999       love  bullet train tokyo gf visiting japan since thu...\n",
       "\n",
       "[87102 rows x 2 columns]"
      ]
     },
     "execution_count": 67,
     "metadata": {},
     "output_type": "execute_result"
    }
   ],
   "source": [
    "data"
   ]
  },
  {
   "attachments": {},
   "cell_type": "markdown",
   "metadata": {},
   "source": [
    "<br>\n",
    "The dataset consists of two columns: 'emotion' - a label for the text stored in 'text' column containing a set of strings.<br>\n",
    "The shape itself is 87102 rows in two already mentioned columns. This amount of data should be sufficient for uor modeling purposes.<br>\n",
    "<br>"
   ]
  },
  {
   "cell_type": "code",
   "execution_count": 68,
   "metadata": {},
   "outputs": [
    {
     "data": {
      "text/html": [
       "<div>\n",
       "<style scoped>\n",
       "    .dataframe tbody tr th:only-of-type {\n",
       "        vertical-align: middle;\n",
       "    }\n",
       "\n",
       "    .dataframe tbody tr th {\n",
       "        vertical-align: top;\n",
       "    }\n",
       "\n",
       "    .dataframe thead th {\n",
       "        text-align: right;\n",
       "    }\n",
       "</style>\n",
       "<table border=\"1\" class=\"dataframe\">\n",
       "  <thead>\n",
       "    <tr style=\"text-align: right;\">\n",
       "      <th></th>\n",
       "      <th>emotion</th>\n",
       "      <th>text</th>\n",
       "    </tr>\n",
       "  </thead>\n",
       "  <tbody>\n",
       "    <tr>\n",
       "      <th>count</th>\n",
       "      <td>87102</td>\n",
       "      <td>87102</td>\n",
       "    </tr>\n",
       "    <tr>\n",
       "      <th>unique</th>\n",
       "      <td>14</td>\n",
       "      <td>65245</td>\n",
       "    </tr>\n",
       "    <tr>\n",
       "      <th>top</th>\n",
       "      <td>happiness</td>\n",
       "      <td></td>\n",
       "    </tr>\n",
       "    <tr>\n",
       "      <th>freq</th>\n",
       "      <td>20347</td>\n",
       "      <td>139</td>\n",
       "    </tr>\n",
       "  </tbody>\n",
       "</table>\n",
       "</div>"
      ],
      "text/plain": [
       "          emotion   text\n",
       "count       87102  87102\n",
       "unique         14  65245\n",
       "top     happiness       \n",
       "freq        20347    139"
      ]
     },
     "execution_count": 68,
     "metadata": {},
     "output_type": "execute_result"
    }
   ],
   "source": [
    "data.describe()"
   ]
  },
  {
   "attachments": {},
   "cell_type": "markdown",
   "metadata": {},
   "source": [
    "<br>\n",
    "Looking a bit deeper into the data we can see that only 64046 unique texts are present which may suggest duplicated rows.\n",
    "<br>"
   ]
  },
  {
   "cell_type": "code",
   "execution_count": 69,
   "metadata": {},
   "outputs": [
    {
     "data": {
      "text/plain": [
       "False"
      ]
     },
     "execution_count": 69,
     "metadata": {},
     "output_type": "execute_result"
    }
   ],
   "source": [
    "data.isnull().values.any()"
   ]
  },
  {
   "cell_type": "code",
   "execution_count": 70,
   "metadata": {},
   "outputs": [
    {
     "name": "stdout",
     "output_type": "stream",
     "text": [
      "False    66014\n",
      "True     21088\n",
      "dtype: int64\n"
     ]
    }
   ],
   "source": [
    "print(data.duplicated().value_counts())"
   ]
  },
  {
   "attachments": {},
   "cell_type": "markdown",
   "metadata": {},
   "source": [
    "<br>\n",
    "Indeed, the dataset contains over 22000 duplicated texts which need to be removed. Additionally, we searched for any null values.<br>\n",
    "<br>"
   ]
  },
  {
   "cell_type": "code",
   "execution_count": 71,
   "metadata": {},
   "outputs": [
    {
     "data": {
      "text/html": [
       "<div>\n",
       "<style scoped>\n",
       "    .dataframe tbody tr th:only-of-type {\n",
       "        vertical-align: middle;\n",
       "    }\n",
       "\n",
       "    .dataframe tbody tr th {\n",
       "        vertical-align: top;\n",
       "    }\n",
       "\n",
       "    .dataframe thead th {\n",
       "        text-align: right;\n",
       "    }\n",
       "</style>\n",
       "<table border=\"1\" class=\"dataframe\">\n",
       "  <thead>\n",
       "    <tr style=\"text-align: right;\">\n",
       "      <th></th>\n",
       "      <th>emotion</th>\n",
       "      <th>text</th>\n",
       "    </tr>\n",
       "  </thead>\n",
       "  <tbody>\n",
       "    <tr>\n",
       "      <th>152</th>\n",
       "      <td>anger</td>\n",
       "      <td>forgiveness might make us look weak weakest pe...</td>\n",
       "    </tr>\n",
       "    <tr>\n",
       "      <th>474</th>\n",
       "      <td>anger</td>\n",
       "      <td>furious</td>\n",
       "    </tr>\n",
       "    <tr>\n",
       "      <th>504</th>\n",
       "      <td>anger</td>\n",
       "      <td>fuming</td>\n",
       "    </tr>\n",
       "    <tr>\n",
       "      <th>749</th>\n",
       "      <td>anger</td>\n",
       "      <td>fury patience conversation</td>\n",
       "    </tr>\n",
       "    <tr>\n",
       "      <th>1393</th>\n",
       "      <td>fear</td>\n",
       "      <td>forgot bb18 tonight much real world distractin...</td>\n",
       "    </tr>\n",
       "    <tr>\n",
       "      <th>...</th>\n",
       "      <td>...</td>\n",
       "      <td>...</td>\n",
       "    </tr>\n",
       "    <tr>\n",
       "      <th>39913</th>\n",
       "      <td>happiness</td>\n",
       "      <td>happy mothers day</td>\n",
       "    </tr>\n",
       "    <tr>\n",
       "      <th>39915</th>\n",
       "      <td>love</td>\n",
       "      <td>happy mothers day everyone</td>\n",
       "    </tr>\n",
       "    <tr>\n",
       "      <th>39945</th>\n",
       "      <td>love</td>\n",
       "      <td>happy mothers day moms there</td>\n",
       "    </tr>\n",
       "    <tr>\n",
       "      <th>39970</th>\n",
       "      <td>love</td>\n",
       "      <td>happy birthday</td>\n",
       "    </tr>\n",
       "    <tr>\n",
       "      <th>39995</th>\n",
       "      <td>neutral</td>\n",
       "      <td></td>\n",
       "    </tr>\n",
       "  </tbody>\n",
       "</table>\n",
       "<p>21088 rows × 2 columns</p>\n",
       "</div>"
      ],
      "text/plain": [
       "         emotion                                               text\n",
       "152        anger  forgiveness might make us look weak weakest pe...\n",
       "474        anger                                            furious\n",
       "504        anger                                             fuming\n",
       "749        anger                         fury patience conversation\n",
       "1393        fear  forgot bb18 tonight much real world distractin...\n",
       "...          ...                                                ...\n",
       "39913  happiness                                  happy mothers day\n",
       "39915       love                         happy mothers day everyone\n",
       "39945       love                       happy mothers day moms there\n",
       "39970       love                                     happy birthday\n",
       "39995    neutral                                                   \n",
       "\n",
       "[21088 rows x 2 columns]"
      ]
     },
     "execution_count": 71,
     "metadata": {},
     "output_type": "execute_result"
    }
   ],
   "source": [
    "data[data.duplicated()]"
   ]
  },
  {
   "cell_type": "code",
   "execution_count": 72,
   "metadata": {},
   "outputs": [
    {
     "name": "stdout",
     "output_type": "stream",
     "text": [
      "False    66014\n",
      "dtype: int64\n"
     ]
    },
    {
     "data": {
      "text/html": [
       "<div>\n",
       "<style scoped>\n",
       "    .dataframe tbody tr th:only-of-type {\n",
       "        vertical-align: middle;\n",
       "    }\n",
       "\n",
       "    .dataframe tbody tr th {\n",
       "        vertical-align: top;\n",
       "    }\n",
       "\n",
       "    .dataframe thead th {\n",
       "        text-align: right;\n",
       "    }\n",
       "</style>\n",
       "<table border=\"1\" class=\"dataframe\">\n",
       "  <thead>\n",
       "    <tr style=\"text-align: right;\">\n",
       "      <th></th>\n",
       "      <th>emotion</th>\n",
       "      <th>text</th>\n",
       "    </tr>\n",
       "  </thead>\n",
       "  <tbody>\n",
       "  </tbody>\n",
       "</table>\n",
       "</div>"
      ],
      "text/plain": [
       "Empty DataFrame\n",
       "Columns: [emotion, text]\n",
       "Index: []"
      ]
     },
     "execution_count": 72,
     "metadata": {},
     "output_type": "execute_result"
    }
   ],
   "source": [
    "# Dropping the duplicated rows \n",
    "data.drop_duplicates(keep='first', inplace=True)\n",
    "\n",
    "# Checking results after \n",
    "print(data.duplicated().value_counts())\n",
    "\n",
    "data[data.duplicated()]"
   ]
  },
  {
   "cell_type": "code",
   "execution_count": 73,
   "metadata": {},
   "outputs": [
    {
     "data": {
      "text/html": [
       "<div>\n",
       "<style scoped>\n",
       "    .dataframe tbody tr th:only-of-type {\n",
       "        vertical-align: middle;\n",
       "    }\n",
       "\n",
       "    .dataframe tbody tr th {\n",
       "        vertical-align: top;\n",
       "    }\n",
       "\n",
       "    .dataframe thead th {\n",
       "        text-align: right;\n",
       "    }\n",
       "</style>\n",
       "<table border=\"1\" class=\"dataframe\">\n",
       "  <thead>\n",
       "    <tr style=\"text-align: right;\">\n",
       "      <th></th>\n",
       "      <th>emotion</th>\n",
       "      <th>text</th>\n",
       "    </tr>\n",
       "  </thead>\n",
       "  <tbody>\n",
       "    <tr>\n",
       "      <th>count</th>\n",
       "      <td>66014</td>\n",
       "      <td>66014</td>\n",
       "    </tr>\n",
       "    <tr>\n",
       "      <th>unique</th>\n",
       "      <td>14</td>\n",
       "      <td>65245</td>\n",
       "    </tr>\n",
       "    <tr>\n",
       "      <th>top</th>\n",
       "      <td>happiness</td>\n",
       "      <td></td>\n",
       "    </tr>\n",
       "    <tr>\n",
       "      <th>freq</th>\n",
       "      <td>13400</td>\n",
       "      <td>9</td>\n",
       "    </tr>\n",
       "  </tbody>\n",
       "</table>\n",
       "</div>"
      ],
      "text/plain": [
       "          emotion   text\n",
       "count       66014  66014\n",
       "unique         14  65245\n",
       "top     happiness       \n",
       "freq        13400      9"
      ]
     },
     "execution_count": 73,
     "metadata": {},
     "output_type": "execute_result"
    }
   ],
   "source": [
    "data.describe()"
   ]
  },
  {
   "attachments": {},
   "cell_type": "markdown",
   "metadata": {},
   "source": [
    "<br>\n",
    "Now the data is ready and we can continue with analysis.\n",
    "<br>"
   ]
  },
  {
   "cell_type": "code",
   "execution_count": 74,
   "metadata": {},
   "outputs": [
    {
     "data": {
      "text/plain": [
       "<bound method DataFrame.info of          emotion                                               text\n",
       "0          anger  point today someone says something remotely ki...\n",
       "1          anger                    game day minus 14 30 relentless\n",
       "2          anger  game pissed game year blood boiling time turn ...\n",
       "3          anger                   found candice candace pout likes\n",
       "4          anger         cannot come muma 60th 25k tweets soreloser\n",
       "...          ...                                                ...\n",
       "39994  happiness                        succesfully following tayla\n",
       "39996       love                             happy mothers day love\n",
       "39997       love  happy mothers day mommies woman man long momma...\n",
       "39998  happiness  wassup beautiful follow me peep new hit single...\n",
       "39999       love  bullet train tokyo gf visiting japan since thu...\n",
       "\n",
       "[66014 rows x 2 columns]>"
      ]
     },
     "execution_count": 74,
     "metadata": {},
     "output_type": "execute_result"
    }
   ],
   "source": [
    "data.info"
   ]
  },
  {
   "cell_type": "code",
   "execution_count": 75,
   "metadata": {},
   "outputs": [
    {
     "data": {
      "image/png": "[encoded data removed]",
      "text/plain": [
       "<Figure size 1500x500 with 1 Axes>"
      ]
     },
     "metadata": {},
     "output_type": "display_data"
    }
   ],
   "source": [
    "# Plot the distribution of emotions across the whole dataset\n",
    "x = data[\"emotion\"].value_counts().index\n",
    "y = data[\"emotion\"].value_counts().values\n",
    "\n",
    "# Create the plot\n",
    "plt.figure(figsize=(15, 5))\n",
    "plot = sns.barplot(x=x,y=y, palette ='coolwarm',  edgecolor='black')\n",
    "plt.xlabel(\"Emotion class\", size=10) \n",
    "plt.ylabel(\"Total number of emotions\", size=10)\n",
    "plt.title(\"Total number of emotions per class\", size=10)\n",
    "plt.bar_label(plot.containers[0],size=9)\n",
    "plt.xticks(rotation = 0, fontsize=8)\n",
    "x1,x2,y1,y2 = plt.axis()  \n",
    "plt.axis((x1,x2,0,15000))\n",
    "plt.show()"
   ]
  },
  {
   "cell_type": "code",
   "execution_count": 76,
   "metadata": {},
   "outputs": [],
   "source": [
    "def label_race (row):\n",
    "   if row['emotion'] == 'happiness' :\n",
    "      return 'yes'\n",
    "   if row['emotion'] == 'sadness':\n",
    "      return 'yes'\n",
    "   if row['emotion'] == 'anger' :\n",
    "      return 'yes'\n",
    "   if row['emotion'] == 'love':\n",
    "      return 'yes'\n",
    "   if row['emotion']  == 'fear':\n",
    "      return 'yes'\n",
    "   if row['emotion'] == 'worry':\n",
    "      return 'yes'\n",
    "   return 'no'\n",
    "\n",
    "data['needed_model'] = data.apply (lambda row: label_race(row), axis=1)"
   ]
  },
  {
   "attachments": {},
   "cell_type": "markdown",
   "metadata": {},
   "source": [
    "<br>\n",
    "Looking at the plot of classes distribution we can see that the data is not balanced and emotions like happiness, sadness, worry, neutral take a vast majority of input text.<br>\n",
    "A model trained with this kind of distribution would be likely biased towards classes with higher frequency while training, <br>\n",
    "and that is why this imbalanced needs to be addressed during the pre-processing phase.<br>\n",
    "On the other hand looking at the source of input texts, it is positive that most of them represent happiness.<br>\n",
    "<br>"
   ]
  },
  {
   "cell_type": "code",
   "execution_count": 77,
   "metadata": {},
   "outputs": [
    {
     "name": "stdout",
     "output_type": "stream",
     "text": [
      "Mean word count of text input:  8.063547126367133\n",
      "\n"
     ]
    },
    {
     "data": {
      "image/png": "[encoded data removed]",
      "text/plain": [
       "<Figure size 1500x500 with 1 Axes>"
      ]
     },
     "metadata": {},
     "output_type": "display_data"
    }
   ],
   "source": [
    "# Calculate the number of words in each text and add it as a new column\n",
    "data['num_words'] = data['text'].apply(lambda x: len(x.split()))\n",
    "\n",
    "# Get the avg number of words for the whole dataframe\n",
    "avg_words = data['num_words'].mean()\n",
    "\n",
    "# Print results\n",
    "print('Mean word count of text input: ', avg_words)\n",
    "print('')\n",
    "\n",
    "# Group the DataFrame by class and calculate the average number of words for each class\n",
    "avg_num_words_by_class = data.groupby('emotion')['num_words'].mean()\n",
    "\n",
    "# Sort values for plotting\n",
    "avg_num_words_by_class = round(avg_num_words_by_class.sort_values(ascending=False), 1)\n",
    "\n",
    "x = avg_num_words_by_class.index\n",
    "y = avg_num_words_by_class.values\n",
    "\n",
    "# Create the plot\n",
    "plt.figure(figsize=(15, 5))\n",
    "plot = sns.barplot(x=x,y=y, palette ='coolwarm',  edgecolor='black')\n",
    "plt.xlabel(\"Emotion class\", size=10) \n",
    "plt.ylabel(\"Average number words\", size=10)\n",
    "plt.title(\"Average number of words per emotion class\", size=10)\n",
    "plt.bar_label(plot.containers[0],size=9)\n",
    "plt.xticks(rotation = 0, fontsize=8)\n",
    "x1,x2,y1,y2 = plt.axis()  \n",
    "plt.axis((x1,x2,0,10))\n",
    "plt.show()"
   ]
  },
  {
   "attachments": {},
   "cell_type": "markdown",
   "metadata": {},
   "source": [
    "<br>\n",
    "The plot above shows the average number of words for each emotion class.<br>\n",
    "We can see that numbers range from 6.3 to around 8.7 having a very small difference between max and min values.<br>\n",
    "This might be a good indicator as the future model will predict emotions based on a similar text length.<br>\n",
    "<br>\n",
    "The average number of words is an important factor to consider in NLP models because it can impact the performance and efficiency of the models. <br>\n",
    "Here are some reasons why:<br>\n",
    "\n",
    "- Training time: The length of the text affects the time it takes to train an NLP model. Longer texts take more time to process and analyze, and as a result, the training time increases.<br>\n",
    "\n",
    "- Memory usage: Longer texts also require more memory to process and store, which can limit the size of the datasets that can be used to train NLP models.<br>\n",
    "\n",
    "- Model accuracy: The length of the text can affect the accuracy of NLP models. Longer texts may contain more complex and diverse language patterns, <br>\n",
    "which can make it more difficult for the model to accurately understand and classify the text.<br>\n",
    "\n",
    "- Model interpretability: Longer texts can also make it harder to interpret the results of NLP models. <br>\n",
    "It may be more challenging to identify which words or phrases were most influential in the model's decision-making process when analyzing longer texts.<br>\n",
    "\n",
    "Overall, the average number of characters in NLP models is an important factor to consider to ensure that the models are both accurate and efficient in their processing and analysis of text data.<br>\n",
    "<br>"
   ]
  },
  {
   "cell_type": "code",
   "execution_count": 78,
   "metadata": {},
   "outputs": [
    {
     "name": "stdout",
     "output_type": "stream",
     "text": [
      "Mean length of text input:  50.42790923137516\n",
      "\n"
     ]
    },
    {
     "data": {
      "image/png": "[encoded data removed]",
      "text/plain": [
       "<Figure size 1500x500 with 1 Axes>"
      ]
     },
     "metadata": {},
     "output_type": "display_data"
    }
   ],
   "source": [
    "# Create a new column for nr of characters\n",
    "data['text_length'] = data['text'].apply(len)\n",
    "\n",
    "# Get the avg number of characters for the whole dataframe\n",
    "avg_length = data['text_length'].mean()\n",
    "\n",
    "# Print results\n",
    "print('Mean length of text input: ', avg_length)\n",
    "print('')\n",
    "\n",
    "# Group the DataFrame by class and calculate the average text length for each class\n",
    "avg_length_by_class = data.groupby('emotion')['text_length'].mean()\n",
    "\n",
    "# Sort values for plotting\n",
    "avg_length_by_class = round(avg_length_by_class.sort_values(ascending=False), 1)\n",
    "\n",
    "x = avg_length_by_class.index\n",
    "y = avg_length_by_class.values\n",
    "\n",
    "# Create the plot\n",
    "plt.figure(figsize=(15, 5))\n",
    "plot = sns.barplot(x=x,y=y, palette ='coolwarm',  edgecolor='black')\n",
    "plt.xlabel(\"Emotion class\", size=10) \n",
    "plt.ylabel(\"Average number characters\", size=10)\n",
    "plt.title(\"Average number of characters per emotion class\", size=10)\n",
    "plt.bar_label(plot.containers[0],size=9)\n",
    "plt.xticks(rotation = 0, fontsize=8)\n",
    "x1,x2,y1,y2 = plt.axis()  \n",
    "plt.axis((x1,x2,0,70))\n",
    "plt.show()"
   ]
  },
  {
   "attachments": {},
   "cell_type": "markdown",
   "metadata": {},
   "source": [
    "<br>\n",
    "The plot above illustrates the average number of characters per emotion class.<br>\n",
    "We can clearly identify the advantage of anger and fear over other classes. <br>\n",
    "Together with the previous plot we can draw a conclusion that people tend to use more and longer words to describe those negative emotions.<br>\n",
    "Other than that, the numbers are quite close to each other with no extremas.<br> \n",
    "<br>\n",
    "Next, we will take a look at the n-grams, in the dataset<br>\n",
    "<Br>\n",
    "In natural language processing (NLP), n-grams are contiguous sequences of n items (usually words) from a given text. <br> \n",
    "These n-grams can be used to represent the text and extract various linguistic features from it.<br> \n",
    "\n",
    "N-grams are commonly used in NLP tasks such as text classification, language modeling, and machine translation. <br> \n",
    "They are particularly useful for language modeling, which involves predicting the next word in a sequence given the previous words.<br> \n",
    "\n",
    "For example, consider the sentence \"The cat sat on the mat.\" Some examples of n-grams for this sentence are:<br> \n",
    "\n",
    "- Unigrams (n=1): \"The\", \"cat\", \"sat\", \"on\", \"the\", \"mat\"<br> \n",
    "- Bigrams (n=2): \"The cat\", \"cat sat\", \"sat on\", \"on the\", \"the mat\"<br> \n",
    "- Trigrams (n=3): \"The cat sat\", \"cat sat on\", \"sat on the\", \"on the mat\"<br> \n",
    "\n",
    "N-grams can be used to extract features from text data for various NLP tasks. For example, in text classification, <br> \n",
    "the frequency of n-grams can be used as input features to a classifier. In language modeling, n-grams can be used to predict the next word in a sequence.<br> \n",
    "<br> \n",
    "However, it's important to note that as the value of n increases, the number of possible n-grams increases exponentially, <br> \n",
    "which can result in sparsity and computational complexity. Therefore, selecting an appropriate value of n is an important consideration when using n-grams in NLP tasks.<br> \n",
    "<br> "
   ]
  },
  {
   "cell_type": "code",
   "execution_count": 79,
   "metadata": {},
   "outputs": [],
   "source": [
    "# Defining a function to get the n-grams\n",
    "def get_top_ngram(corpus, n=None):\n",
    "    vec = CountVectorizer(ngram_range=(n, n)).fit(corpus)\n",
    "    bag_of_words = vec.transform(corpus)\n",
    "    sum_words = bag_of_words.sum(axis=0)\n",
    "    words_freq = [(word, sum_words[0, idx])\n",
    "                  for word, idx in vec.vocabulary_.items()]\n",
    "    words_freq =sorted(words_freq, key = lambda x: x[1], reverse=True)\n",
    "    return words_freq[:10]"
   ]
  },
  {
   "cell_type": "code",
   "execution_count": 80,
   "metadata": {},
   "outputs": [
    {
     "data": {
      "image/png": "[encoded data removed]",
      "text/plain": [
       "<Figure size 1500x500 with 1 Axes>"
      ]
     },
     "metadata": {},
     "output_type": "display_data"
    }
   ],
   "source": [
    "# Call the function to get n-grams\n",
    "top_n_bigrams = get_top_ngram(data['text'],1)[:10] \n",
    "\n",
    "# Mapping x and y for plotting\n",
    "x,y=map(list,zip(*top_n_bigrams)) \n",
    "\n",
    "# Create the plot\n",
    "plt.figure(figsize=(15, 5))\n",
    "plot = sns.barplot(x=x,y=y, palette ='coolwarm',  edgecolor='black')\n",
    "plt.xlabel(\"unigram\", size=10) \n",
    "plt.ylabel(\"count\", size=10)\n",
    "plt.title(\"Total number of unigrams\", size=10)\n",
    "plt.bar_label(plot.containers[0],size=9)\n",
    "plt.xticks(rotation = 0, fontsize=8)\n",
    "x1,x2,y1,y2 = plt.axis()  \n",
    "plt.axis((x1,x2,0,16000))\n",
    "plt.show()"
   ]
  },
  {
   "attachments": {},
   "cell_type": "markdown",
   "metadata": {},
   "source": [
    "<br>\n",
    "The word \"feel\" appears to be much more common in the dataset, with a count of 14,700, compared to \"feeling\" which has a count of 6,000. <br>\n",
    "The plot is useful for understanding the relative frequency of these two related words in the dataset, and may provide insight into the sentiment or emotional tone of the text data.<br>\n",
    "<br>\n",
    "Plotting unigrams in exploratory data analysis (EDA) for NLP model data is important for several reasons:<br>\n",
    "\n",
    "- Identify common words: Plotting unigrams can help identify the most common words in the dataset. This can provide insight into the overall <br>\n",
    "theme or sentiment of the text data and help researchers to better understand the language patterns and vocabulary used in the dataset.<br>\n",
    "\n",
    "- Feature selection: By plotting unigrams, researchers can identify words that occur frequently in the dataset and use them as input features for NLP models. <br>\n",
    "This can improve model accuracy and efficiency.<br>\n",
    "\n",
    "- Data cleaning: Plotting unigrams can also help identify common stop words (such as \"the,\" \"and,\" \"a,\" etc.) that may need to be removed from the dataset to improve model accuracy.<br>\n",
    "\n",
    "- Comparison of datasets: Plotting unigrams can also be useful for comparing the frequency of words between different datasets. <br> \n",
    "This can help identify differences in language use and vocabulary between different populations or contexts.<br>\n",
    "\n",
    "Overall, plotting unigrams is an important step in the EDA process for NLP model data. <br>\n",
    "It can help us better understand the language patterns and vocabulary used in the dataset, select input features for models, and improve model accuracy and efficiency.<br>"
   ]
  },
  {
   "cell_type": "code",
   "execution_count": 81,
   "metadata": {},
   "outputs": [
    {
     "data": {
      "image/png": "[encoded data removed]",
      "text/plain": [
       "<Figure size 1500x500 with 1 Axes>"
      ]
     },
     "metadata": {},
     "output_type": "display_data"
    }
   ],
   "source": [
    "# Call the function to get n-grams\n",
    "top_n_bigrams = get_top_ngram(data['text'],2)[:10] \n",
    "\n",
    "# Mapping x and y for plotting\n",
    "x,y=map(list,zip(*top_n_bigrams)) \n",
    "\n",
    "# Create the plot\n",
    "plt.figure(figsize=(15, 5))\n",
    "plot = sns.barplot(x=x,y=y, palette ='coolwarm',  edgecolor='black')\n",
    "plt.xlabel(\"bigram\", size=10) \n",
    "plt.ylabel(\"count\", size=10)\n",
    "plt.title(\"Total number of bigrams\", size=10)\n",
    "plt.bar_label(plot.containers[0],size=9)\n",
    "plt.xticks(rotation = 0, fontsize=8)\n",
    "x1,x2,y1,y2 = plt.axis()  \n",
    "plt.axis((x1,x2,0,2500))\n",
    "plt.show()"
   ]
  },
  {
   "cell_type": "code",
   "execution_count": 82,
   "metadata": {},
   "outputs": [
    {
     "data": {
      "image/png": "[encoded data removed]",
      "text/plain": [
       "<Figure size 1500x500 with 1 Axes>"
      ]
     },
     "metadata": {},
     "output_type": "display_data"
    }
   ],
   "source": [
    "# Call the function to get n-grams\n",
    "top_n_bigrams = get_top_ngram(data['text'],3)[:10] \n",
    "\n",
    "# Mapping x and y for plotting\n",
    "x,y=map(list,zip(*top_n_bigrams)) \n",
    "\n",
    "# Create the plot\n",
    "sns.set_style(\"white\")\n",
    "plt.figure(figsize=(15, 5))\n",
    "plot = sns.barplot(x=x,y=y, palette ='coolwarm',  edgecolor='black')\n",
    "plt.xlabel(\"trigram\", size=10) \n",
    "plt.ylabel(\"count\", size=10)\n",
    "plt.title(\"Total number of trigrams\", size=10)\n",
    "plt.bar_label(plot.containers[0],size=9)\n",
    "plt.xticks(rotation = 30, fontsize=8)\n",
    "x1,x2,y1,y2 = plt.axis()  \n",
    "plt.axis((x1,x2,0,600))\n",
    "plt.show()"
   ]
  },
  {
   "attachments": {},
   "cell_type": "markdown",
   "metadata": {},
   "source": [
    "<br>\n",
    "Additionally we have looked at the plots for bigrams and trigrams present in the data. <br>\n",
    "It helps to identify common phrases and check for possible error like the trigram \"href http www\" which is not a correct phrase and needs to be removed in the pre-processing phase.<br>\n",
    "This issue made us realize that words like \"href http www\" may exists as bigrams and nigrams as well and needs to be checked.<br>\n",
    "<br>"
   ]
  },
  {
   "cell_type": "code",
   "execution_count": 83,
   "metadata": {},
   "outputs": [
    {
     "data": {
      "text/plain": [
       "hi uploaded 5 completely new chinese lessons www chineselearn please feel free watch enjoy    5\n",
       "hi thanks following teach chinese lessons youtube pls feel free look www chineselearn         3\n",
       "hi teach chinese lessons youtube feel free look www chineselearn                              3\n",
       "awww                                                                                          2\n",
       "pout tips edge definitely agin feic bakes full make boots heels                               2\n",
       "                                                                                             ..\n",
       "waking bladder feels extremely unhappy found type exercise made worse definitely irritated    1\n",
       "thank feel utterly defeated                                                                   1\n",
       "feel like explorer life radiant woman photography href http lightsync                         1\n",
       "must say feel troubled href http emillionstars                                                1\n",
       "wassup beautiful follow me peep new hit singles www ipsohot def wat video                     1\n",
       "Name: text, Length: 1109, dtype: int64"
      ]
     },
     "execution_count": 83,
     "metadata": {},
     "output_type": "execute_result"
    }
   ],
   "source": [
    "selected_words = {'href', 'http', 'www', 'img', 'src', 'def'}\n",
    "\n",
    "data.loc[data['text'].str.contains('|'.join(selected_words)),'text'].value_counts()"
   ]
  },
  {
   "cell_type": "code",
   "execution_count": 84,
   "metadata": {},
   "outputs": [
    {
     "data": {
      "text/plain": [
       "1125"
      ]
     },
     "execution_count": 84,
     "metadata": {},
     "output_type": "execute_result"
    }
   ],
   "source": [
    "data.loc[data['text'].str.contains('|'.join(selected_words)),'text'].value_counts().sum()"
   ]
  },
  {
   "cell_type": "code",
   "execution_count": 85,
   "metadata": {},
   "outputs": [
    {
     "name": "stderr",
     "output_type": "stream",
     "text": [
      "/var/folders/v9/szm7dr5x3j55c958f77yjjk80000gn/T/ipykernel_61180/3621132639.py:3: FutureWarning: The default value of regex will change from True to False in a future version.\n",
      "  data['text'] = data['text'].str.replace(pat, '')\n"
     ]
    }
   ],
   "source": [
    "pat = '|'.join(r\"\\b{}\\b\".format(x) for x in selected_words)\n",
    "\n",
    "data['text'] = data['text'].str.replace(pat, '')"
   ]
  },
  {
   "cell_type": "code",
   "execution_count": 86,
   "metadata": {},
   "outputs": [
    {
     "data": {
      "text/plain": [
       "784"
      ]
     },
     "execution_count": 86,
     "metadata": {},
     "output_type": "execute_result"
    }
   ],
   "source": [
    "data.loc[data['text'].str.contains('|'.join(selected_words)),'text'].value_counts().sum()"
   ]
  },
  {
   "attachments": {},
   "cell_type": "markdown",
   "metadata": {},
   "source": [
    "<br>\n",
    "Turns out that there are some more inappropriate words in data that needs to be removed in pre-procesisng phase. They sum up to over 1112 in total.<br>\n",
    "<br>"
   ]
  },
  {
   "attachments": {},
   "cell_type": "markdown",
   "metadata": {},
   "source": [
    "#### <b>4. Conclusion:</b> <br>\n",
    "<br>\n",
    "Performing this EDA gave us a lot of insights into our collected data as well as made aware of many requirements our future model architecture will have.<br>\n",
    "By loading, cleaning, computing numbers and plotting we have illustrated the training input to our solution. <Br>\n",
    "Moreover, this analysis required initial cleaning and data preparation for which steps will be reused in later project phases.<br>\n",
    "<br>\n",
    "During the process we came up with points that needs to be addressed in the pre-processing phase:<br>\n",
    "\n",
    "- engineering required for future pipeline step labels\n",
    "- balancing the class count\n",
    "- removing \"href http www' trigrams\n",
    "\n",
    "<br>\n",
    "<br>\n",
    "<Br>\n",
    "<BR>"
   ]
  },
  {
   "cell_type": "code",
   "execution_count": 87,
   "metadata": {},
   "outputs": [],
   "source": [
    "data.to_csv('SA_model_data_after_EDA')"
   ]
  }
 ],
 "metadata": {
  "kernelspec": {
   "display_name": "Python 3",
   "language": "python",
   "name": "python3"
  },
  "language_info": {
   "codemirror_mode": {
    "name": "ipython",
    "version": 3
   },
   "file_extension": ".py",
   "mimetype": "text/x-python",
   "name": "python",
   "nbconvert_exporter": "python",
   "pygments_lexer": "ipython3",
   "version": "3.10.9"
  },
  "orig_nbformat": 4
 },
 "nbformat": 4,
 "nbformat_minor": 2
}
