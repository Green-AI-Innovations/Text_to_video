{
 "cells": [
  {
   "cell_type": "code",
   "execution_count": null,
   "id": "3a1dc0dd",
   "metadata": {},
   "outputs": [
    {
     "data": {
      "text/plain": [
       "happiness     20347\n",
       "sadness       18292\n",
       "neutral        8638\n",
       "worry          8459\n",
       "anger          7229\n",
       "love           7124\n",
       "fear           6998\n",
       "surprise       3625\n",
       "fun            1776\n",
       "relief         1526\n",
       "hate           1323\n",
       "empty           827\n",
       "enthusiasm      759\n",
       "boredom         179\n",
       "Name: emotion, dtype: int64"
      ]
     },
     "execution_count": 259,
     "metadata": {},
     "output_type": "execute_result"
    }
   ],
   "source": [
    "data[\"emotion\"].value_counts()"
   ]
  },
  {
   "cell_type": "code",
   "execution_count": null,
   "id": "1c1ad6d6",
   "metadata": {},
   "outputs": [],
   "source": []
  }
 ],
 "metadata": {
  "kernelspec": {
   "display_name": "Python 3 (ipykernel)",
   "language": "python",
   "name": "python3"
  },
  "language_info": {
   "codemirror_mode": {
    "name": "ipython",
    "version": 3
   },
   "file_extension": ".py",
   "mimetype": "text/x-python",
   "name": "python",
   "nbconvert_exporter": "python",
   "pygments_lexer": "ipython3",
   "version": "3.10.9"
  }
 },
 "nbformat": 4,
 "nbformat_minor": 5
}
